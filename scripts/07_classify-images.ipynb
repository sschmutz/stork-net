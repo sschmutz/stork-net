{
 "cells": [
  {
   "cell_type": "code",
   "execution_count": 14,
   "metadata": {},
   "outputs": [],
   "source": [
    "import tensorflow as tf\n",
    "\n",
    "from tensorflow.keras.preprocessing.image import ImageDataGenerator\n",
    "\n",
    "import pathlib\n",
    "import os\n"
   ]
  },
  {
   "cell_type": "code",
   "execution_count": 15,
   "metadata": {},
   "outputs": [],
   "source": [
    "img_dir = pathlib.Path(\"/Users/stefan_schmutz/Dropbox/stork-net_raw/images/2019/\")"
   ]
  },
  {
   "cell_type": "code",
   "execution_count": 16,
   "metadata": {},
   "outputs": [],
   "source": [
    "total_img = len(list(img_dir.glob(\"*.jpg\")))"
   ]
  },
  {
   "cell_type": "code",
   "execution_count": 17,
   "metadata": {},
   "outputs": [],
   "source": [
    "img_height = 480\n",
    "img_width = 640\n",
    "channels = 3\n",
    "\n",
    "class_names = np.array([\"3_stork\", \"1_stork\", \"0_stork\", \"2_stork\"])"
   ]
  },
  {
   "cell_type": "code",
   "execution_count": 18,
   "metadata": {},
   "outputs": [
    {
     "name": "stdout",
     "output_type": "stream",
     "text": [
      "Found 69893 images belonging to 1 classes.\n"
     ]
    }
   ],
   "source": [
    "# The 1./255 is to convert from uint8 to float32 in range [0,1]\n",
    "img_generator = ImageDataGenerator(rescale=1./255)\n",
    "\n",
    "img_data_gen = img_generator.flow_from_directory(batch_size=1,\n",
    "                                                 directory=img_dir,\n",
    "                                                 shuffle=False,\n",
    "                                                 target_size=(img_height, img_width),\n",
    "                                                 class_mode=\"categorical\",\n",
    "                                                 classes = [\"\"])"
   ]
  },
  {
   "cell_type": "code",
   "execution_count": 19,
   "metadata": {},
   "outputs": [],
   "source": [
    "model = tf.keras.models.load_model(\"stork_net_v2.h5\")"
   ]
  },
  {
   "cell_type": "code",
   "execution_count": 20,
   "metadata": {},
   "outputs": [],
   "source": [
    "filenames = img_data_gen.filenames\n",
    "nb_samples = len(filenames)"
   ]
  },
  {
   "cell_type": "code",
   "execution_count": 21,
   "metadata": {},
   "outputs": [],
   "source": [
    "predictions = model.predict(img_data_gen)\n",
    "\n",
    "# decode one-hot encoded labels\n",
    "predictions_decoded = tf.argmax(predictions, axis=1)\n",
    "predictions_label = [class_names[i] for i in predictions_decoded]"
   ]
  },
  {
   "cell_type": "code",
   "execution_count": 25,
   "metadata": {},
   "outputs": [],
   "source": [
    "predictions_df = pd.DataFrame(list(zip(filenames, predictions, predictions_decoded.numpy(), predictions_label)),\n",
    "                              columns =[\"filename\", \"prediction\", \"prediction_decoded\", \"prediction_label\"]) "
   ]
  },
  {
   "cell_type": "code",
   "execution_count": 26,
   "metadata": {},
   "outputs": [
    {
     "data": {
      "text/plain": [
       "<bound method NDFrame.head of                    filename  \\\n",
       "0      2019-01-01_00-05.jpg   \n",
       "1      2019-01-01_00-10.jpg   \n",
       "2      2019-01-01_00-15.jpg   \n",
       "3      2019-01-01_00-20.jpg   \n",
       "4      2019-01-01_00-25.jpg   \n",
       "...                     ...   \n",
       "69888  2019-08-31_23-35.jpg   \n",
       "69889  2019-08-31_23-40.jpg   \n",
       "69890  2019-08-31_23-45.jpg   \n",
       "69891  2019-08-31_23-50.jpg   \n",
       "69892  2019-08-31_23-55.jpg   \n",
       "\n",
       "                                              prediction  prediction_decoded  \\\n",
       "0      [1.8295156e-14, 2.6989856e-06, 0.99999726, 2.2...                   2   \n",
       "1      [4.573137e-14, 3.7987309e-06, 0.9999962, 7.274...                   2   \n",
       "2      [6.2650656e-14, 1.813997e-05, 0.9999819, 6.346...                   2   \n",
       "3      [9.6246484e-14, 8.814876e-06, 0.9999912, 2.258...                   2   \n",
       "4      [9.2637025e-14, 9.0843905e-06, 0.99999094, 1.8...                   2   \n",
       "...                                                  ...                 ...   \n",
       "69888  [3.7124048e-10, 1.3933508e-05, 0.99998605, 7.0...                   2   \n",
       "69889  [2.0522524e-09, 0.00014663006, 0.999853, 3.462...                   2   \n",
       "69890  [1.6042896e-09, 6.207155e-05, 0.9999378, 1.541...                   2   \n",
       "69891  [2.0377195e-09, 7.38615e-05, 0.99992573, 3.107...                   2   \n",
       "69892  [1.0014453e-09, 5.210129e-05, 0.99994767, 1.81...                   2   \n",
       "\n",
       "      prediction_label  \n",
       "0              0_stork  \n",
       "1              0_stork  \n",
       "2              0_stork  \n",
       "3              0_stork  \n",
       "4              0_stork  \n",
       "...                ...  \n",
       "69888          0_stork  \n",
       "69889          0_stork  \n",
       "69890          0_stork  \n",
       "69891          0_stork  \n",
       "69892          0_stork  \n",
       "\n",
       "[69893 rows x 4 columns]>"
      ]
     },
     "execution_count": 26,
     "metadata": {},
     "output_type": "execute_result"
    }
   ],
   "source": [
    "predictions_df.head"
   ]
  },
  {
   "cell_type": "code",
   "execution_count": 27,
   "metadata": {},
   "outputs": [],
   "source": [
    "predictions_df.to_csv(\"predictions_2019.csv\", index=False)"
   ]
  },
  {
   "cell_type": "code",
   "execution_count": null,
   "metadata": {},
   "outputs": [],
   "source": []
  }
 ],
 "metadata": {
  "kernelspec": {
   "display_name": "ANN",
   "language": "python",
   "name": "ann"
  },
  "language_info": {
   "codemirror_mode": {
    "name": "ipython",
    "version": 3
   },
   "file_extension": ".py",
   "mimetype": "text/x-python",
   "name": "python",
   "nbconvert_exporter": "python",
   "pygments_lexer": "ipython3",
   "version": "3.7.7"
  }
 },
 "nbformat": 4,
 "nbformat_minor": 4
}
